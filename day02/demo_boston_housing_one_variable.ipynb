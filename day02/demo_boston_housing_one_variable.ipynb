{
 "cells": [
  {
   "cell_type": "code",
   "execution_count": 1,
   "metadata": {},
   "outputs": [],
   "source": [
    "import pandas as pd\n",
    "import numpy as np"
   ]
  },
  {
   "cell_type": "markdown",
   "metadata": {},
   "source": [
    "## Load data from csv file"
   ]
  },
  {
   "cell_type": "code",
   "execution_count": 2,
   "metadata": {
    "colab": {
     "base_uri": "https://localhost:8080/",
     "height": 54
    },
    "colab_type": "code",
    "id": "7ySvcVJHBHvG",
    "outputId": "981e545b-da9b-4829-d13c-b1c00d1a27f0"
   },
   "outputs": [
    {
     "data": {
      "text/plain": [
       "\"\\nAttribute Information:\\n    1.  CRIM      per capita crime rate by town\\n    2.  ZN        proportion of residential land zoned for lots over \\n                  25,000 sq.ft.\\n    3.  INDUS     proportion of non-retail business acres per town\\n    4.  CHAS      Charles River dummy variable (= 1 if tract bounds \\n                  river; 0 otherwise)\\n    5.  NOX       nitric oxides concentration (parts per 10 million)\\n    6.  RM        average number of rooms per dwelling\\n    7.  AGE       proportion of owner-occupied units built prior to 1940\\n    8.  DIS       weighted distances to five Boston employment centres\\n    9.  RAD       index of accessibility to radial highways\\n    10. TAX       full-value property-tax rate per $10,000\\n    11. PTRATIO   pupil-teacher ratio by town\\n    12. B         1000(Bk - 0.63)^2 where Bk is the proportion of blocks by town\\n    13. LSTAT     % lower status of the population\\n    14. MEDV      Median value of owner-occupied homes in $1000's\\n\""
      ]
     },
     "execution_count": 2,
     "metadata": {},
     "output_type": "execute_result"
    }
   ],
   "source": [
    "names = ['CRIM','ZN','INDUS','CHAS','NOX','RM','AGE','DIS','RAD','TAX','PTRATIO','B','LSTAT','PRICE']\n",
    "df = pd.read_csv('https://archive.ics.uci.edu/ml/machine-learning-databases/housing/housing.data',\n",
    "                header=None, names=names , delim_whitespace = True, na_values='?')\n",
    "\n",
    "\"\"\"\n",
    "Attribute Information:\n",
    "    1.  CRIM      per capita crime rate by town\n",
    "    2.  ZN        proportion of residential land zoned for lots over \n",
    "                  25,000 sq.ft.\n",
    "    3.  INDUS     proportion of non-retail business acres per town\n",
    "    4.  CHAS      Charles River dummy variable (= 1 if tract bounds \n",
    "                  river; 0 otherwise)\n",
    "    5.  NOX       nitric oxides concentration (parts per 10 million)\n",
    "    6.  RM        average number of rooms per dwelling\n",
    "    7.  AGE       proportion of owner-occupied units built prior to 1940\n",
    "    8.  DIS       weighted distances to five Boston employment centres\n",
    "    9.  RAD       index of accessibility to radial highways\n",
    "    10. TAX       full-value property-tax rate per $10,000\n",
    "    11. PTRATIO   pupil-teacher ratio by town\n",
    "    12. B         1000(Bk - 0.63)^2 where Bk is the proportion of blocks by town\n",
    "    13. LSTAT     % lower status of the population\n",
    "    14. MEDV      Median value of owner-occupied homes in $1000's\n",
    "\"\"\"\n",
    "\n"
   ]
  },
  {
   "cell_type": "code",
   "execution_count": 3,
   "metadata": {},
   "outputs": [
    {
     "name": "stdout",
     "output_type": "stream",
     "text": [
      "df is an object of  <class 'pandas.core.frame.DataFrame'>\n",
      "\n",
      "\n",
      "      CRIM    ZN  INDUS  CHAS    NOX     RM   AGE     DIS  RAD    TAX  \\\n",
      "0  0.00632  18.0   2.31     0  0.538  6.575  65.2  4.0900    1  296.0   \n",
      "1  0.02731   0.0   7.07     0  0.469  6.421  78.9  4.9671    2  242.0   \n",
      "2  0.02729   0.0   7.07     0  0.469  7.185  61.1  4.9671    2  242.0   \n",
      "3  0.03237   0.0   2.18     0  0.458  6.998  45.8  6.0622    3  222.0   \n",
      "4  0.06905   0.0   2.18     0  0.458  7.147  54.2  6.0622    3  222.0   \n",
      "\n",
      "   PTRATIO       B  LSTAT  PRICE  \n",
      "0     15.3  396.90   4.98   24.0  \n",
      "1     17.8  396.90   9.14   21.6  \n",
      "2     17.8  392.83   4.03   34.7  \n",
      "3     18.7  394.63   2.94   33.4  \n",
      "4     18.7  396.90   5.33   36.2  \n",
      "(506, 14)\n"
     ]
    }
   ],
   "source": [
    "print ('df is an object of ', type(df))\n",
    "print ('\\n')\n",
    "print(df.head(5))\n",
    "print(df.shape)"
   ]
  },
  {
   "cell_type": "markdown",
   "metadata": {},
   "source": [
    "### Store values in the pandas dataframe as numpy arrays\n",
    "- we want to use the average number of rooms to predict the housing price\n",
    "- we need to extract the data from df and convert them to numpy arrays"
   ]
  },
  {
   "cell_type": "code",
   "execution_count": 4,
   "metadata": {
    "colab": {},
    "colab_type": "code",
    "id": "DnClZNwpEms6"
   },
   "outputs": [
    {
     "name": "stdout",
     "output_type": "stream",
     "text": [
      "both x and y are now objects of <class 'numpy.ndarray'>\n"
     ]
    }
   ],
   "source": [
    "y = df['PRICE'].values\n",
    "x = df['RM'].values\n",
    "print ('both x and y are now objects of', type(x))"
   ]
  },
  {
   "cell_type": "markdown",
   "metadata": {},
   "source": [
    "### Plot the housing price against the average number of rooms"
   ]
  },
  {
   "cell_type": "code",
   "execution_count": 5,
   "metadata": {
    "colab": {
     "base_uri": "https://localhost:8080/",
     "height": 279
    },
    "colab_type": "code",
    "id": "eb1dMMhXFUqx",
    "outputId": "db15243f-a4f4-488b-d361-c07ed62d43e8"
   },
   "outputs": [],
   "source": [
    "import matplotlib.pyplot as plt\n",
    "\n",
    "plt.plot(x,y,'o')\n",
    "plt.xlabel('Average Number of Rooms')\n",
    "plt.ylabel('Price')\n",
    "plt.grid()"
   ]
  },
  {
   "cell_type": "markdown",
   "metadata": {
    "colab_type": "text",
    "id": "AgOsOzRXTbIP"
   },
   "source": [
    "# Guess a line to fit the data"
   ]
  },
  {
   "cell_type": "code",
   "execution_count": 6,
   "metadata": {
    "colab": {
     "base_uri": "https://localhost:8080/",
     "height": 279
    },
    "colab_type": "code",
    "id": "luFvmrCzF5Wx",
    "outputId": "314b4b5d-407f-477b-c3a0-01a1a3500621"
   },
   "outputs": [
    {
     "data": {
      "image/png": "[encoded data removed]",
      "text/plain": [
       "<Figure size 432x288 with 1 Axes>"
      ]
     },
     "metadata": {
      "needs_background": "light"
     },
     "output_type": "display_data"
    }
   ],
   "source": [
    "w1 = 9\n",
    "w0 = -30\n",
    "xplt = np.linspace(3,9,100)\n",
    "yplt = w1*xplt + w0\n",
    "plt.plot(x,y,'o')    # Plot the data points\n",
    "\n",
    "plt.plot(xplt,yplt,'-',linewidth=3)  # Plot the line\n",
    "plt.xlabel('Average number of rooms in a region')\n",
    "plt.ylabel('Price')\n",
    "plt.grid()\n"
   ]
  },
  {
   "cell_type": "code",
   "execution_count": 7,
   "metadata": {
    "colab": {
     "base_uri": "https://localhost:8080/",
     "height": 282
    },
    "colab_type": "code",
    "id": "7Q_0kRCadgbd",
    "outputId": "39384adb-58be-4c3f-8126-3431b629f291"
   },
   "outputs": [
    {
     "data": {
      "text/plain": [
       "<matplotlib.legend.Legend at 0x7fb6a36e7f98>"
      ]
     },
     "execution_count": 7,
     "metadata": {},
     "output_type": "execute_result"
    },
    {
     "data": {
      "image/png": "[encoded data removed]",
      "text/plain": [
       "<Figure size 432x288 with 1 Axes>"
      ]
     },
     "metadata": {
      "needs_background": "light"
     },
     "output_type": "display_data"
    }
   ],
   "source": [
    "## Other possible guesses\n",
    "yplt2=9.1*xplt -34.67\n",
    "yplt3=12.5*xplt-53\n",
    "plt.plot(x,y,'o') \n",
    "plt.plot(xplt,yplt2,'-',linewidth=3,label='yplt2') \n",
    "plt.plot(xplt,yplt3,'-',linewidth=3,label='yplt3') \n",
    "plt.legend()"
   ]
  },
  {
   "cell_type": "markdown",
   "metadata": {
    "colab_type": "text",
    "id": "_k2ftd_WPxu8"
   },
   "source": [
    "## Calculate the Mean Squared Error (MSE) and Mean Absolute Error (MAE) to determine goodness of fit"
   ]
  },
  {
   "cell_type": "markdown",
   "metadata": {},
   "source": [
    "- Notice how ** 2 acts on numpy arrays\n",
    "- Notice how numpy broadcast computation between scalars and vectors"
   ]
  },
  {
   "cell_type": "code",
   "execution_count": 8,
   "metadata": {},
   "outputs": [
    {
     "name": "stdout",
     "output_type": "stream",
     "text": [
      "0.6889\n",
      "[1 4 9]\n"
     ]
    }
   ],
   "source": [
    "print ((0.83) ** 2)\n",
    "print (np.array([1, 2, 3 ]) ** 2)"
   ]
  },
  {
   "cell_type": "code",
   "execution_count": 9,
   "metadata": {},
   "outputs": [
    {
     "name": "stdout",
     "output_type": "stream",
     "text": [
      "(506,)\n",
      "(506,)\n"
     ]
    }
   ],
   "source": [
    "print (x.shape)\n",
    "yhat1 = 9*x-30\n",
    "print (yhat1.shape)\n"
   ]
  },
  {
   "cell_type": "code",
   "execution_count": 10,
   "metadata": {
    "colab": {
     "base_uri": "https://localhost:8080/",
     "height": 85
    },
    "colab_type": "code",
    "id": "PNaAngOcIoZ0",
    "outputId": "1acd7aef-162d-407c-e928-b6800288b6c5"
   },
   "outputs": [
    {
     "name": "stdout",
     "output_type": "stream",
     "text": [
      "59.83774942094861\n",
      "43.600713565355726\n",
      "58.4404171813241\n",
      "44.77113069515811\n"
     ]
    }
   ],
   "source": [
    "yhat1 = 9*x-30\n",
    "yhat2 = 9.1*x-34.67\n",
    "yhat3 = 12.5*x-53\n",
    "yhat4 = 10.5*x-43\n",
    "\n",
    "# Mean Squared Error\n",
    "\n",
    "MSE1 = np.mean((y-yhat1)**2)\n",
    "MSE2 = np.mean((y-yhat2)**2)\n",
    "MSE3 = np.mean((y-yhat3)**2)\n",
    "MSE4 = np.mean((y-yhat4)**2)\n",
    "\n",
    "print(MSE1)\n",
    "print(MSE2)\n",
    "print(MSE3)\n",
    "print(MSE4)\n"
   ]
  },
  {
   "cell_type": "markdown",
   "metadata": {},
   "source": [
    "- Notice how np.abs acts on vectors"
   ]
  },
  {
   "cell_type": "code",
   "execution_count": 11,
   "metadata": {
    "colab": {
     "base_uri": "https://localhost:8080/",
     "height": 34
    },
    "colab_type": "code",
    "id": "WhvseoAl_Rk-",
    "outputId": "afc0f1a2-6375-453b-96c0-3a6bc8d0a889"
   },
   "outputs": [
    {
     "name": "stdout",
     "output_type": "stream",
     "text": [
      "2\n",
      "[1 2 3]\n"
     ]
    }
   ],
   "source": [
    "print(np.abs(-2))\n",
    "print(np.abs(np.array([-1,-2,3])))"
   ]
  },
  {
   "cell_type": "code",
   "execution_count": 12,
   "metadata": {
    "colab": {
     "base_uri": "https://localhost:8080/",
     "height": 68
    },
    "colab_type": "code",
    "id": "M1WqSyyvSP2l",
    "outputId": "e1e82d39-b9c1-40ca-8b56-d1a69ed2458a"
   },
   "outputs": [
    {
     "name": "stdout",
     "output_type": "stream",
     "text": [
      "5.807100790513834\n",
      "4.448047628458498\n",
      "5.315242094861659\n"
     ]
    }
   ],
   "source": [
    "# Mean Aboslute Error\n",
    "MAE1 = np.mean(np.abs(y-yhat1))\n",
    "MAE2 = np.mean(np.abs(y-yhat2))\n",
    "MAE3 = np.mean(np.abs(y-yhat3))\n",
    "print(MAE1)\n",
    "print(MAE2)\n",
    "print(MAE3)"
   ]
  },
  {
   "cell_type": "markdown",
   "metadata": {
    "colab_type": "text",
    "id": "A35PuWAs_MrW"
   },
   "source": [
    "## Computing MSE with non-vectorized vs vectorized code\n",
    "- For simplicity, let us use only first 10 samples\n"
   ]
  },
  {
   "cell_type": "code",
   "execution_count": 13,
   "metadata": {
    "colab": {},
    "colab_type": "code",
    "id": "Lyf2aIna_yCq"
   },
   "outputs": [],
   "source": [
    "N = 10\n",
    "df = df.head(N)"
   ]
  },
  {
   "cell_type": "code",
   "execution_count": 14,
   "metadata": {
    "colab": {
     "base_uri": "https://localhost:8080/",
     "height": 68
    },
    "colab_type": "code",
    "id": "5fN5dJ_b8sY7",
    "outputId": "45bd6667-be92-4f4a-83b4-76338fc8ebef"
   },
   "outputs": [
    {
     "name": "stdout",
     "output_type": "stream",
     "text": [
      "x =  [6.575 6.421 7.185 6.998 7.147 6.43  6.012 6.172 5.631 6.004]\n",
      "y =  [24.  21.6 34.7 33.4 36.2 28.7 22.9 27.1 16.5 18.9]\n"
     ]
    }
   ],
   "source": [
    "x = df['RM'].values # feature\n",
    "y = df['PRICE'].values # label\n",
    "\n",
    "# let's print out the values of x and y\n",
    "print ('x = ', x)\n",
    "print ('y = ', y)\n"
   ]
  },
  {
   "cell_type": "code",
   "execution_count": 15,
   "metadata": {
    "colab": {
     "base_uri": "https://localhost:8080/",
     "height": 34
    },
    "colab_type": "code",
    "id": "UgIvevrc_gZf",
    "outputId": "fadd68ef-f933-4408-ac85-a6d924ba2e3a"
   },
   "outputs": [
    {
     "name": "stdout",
     "output_type": "stream",
     "text": [
      "11.7182829\n"
     ]
    }
   ],
   "source": [
    "# Let us evaluate the MSE of the model f(x) = 9*x - 30 on the dataset (x,y)\n",
    "# The non-vectorized code goes like this:\n",
    "\n",
    "sum_of_square_errors = 0\n",
    "for i in range(N):\n",
    "  yhat_i = 9*x[i] - 30\n",
    "  sum_of_square_errors = sum_of_square_errors + (y[i] - yhat_i) ** 2\n",
    "MSE = sum_of_square_errors/N\n",
    "\n",
    "print (MSE)"
   ]
  },
  {
   "cell_type": "markdown",
   "metadata": {},
   "source": [
    "### The vectorized code goes like this:\n"
   ]
  },
  {
   "cell_type": "code",
   "execution_count": 16,
   "metadata": {
    "colab": {
     "base_uri": "https://localhost:8080/",
     "height": 34
    },
    "colab_type": "code",
    "id": "xhTe7cRDB2zX",
    "outputId": "be9c9b44-314f-4ee1-d3e2-cdb1135122c3"
   },
   "outputs": [
    {
     "name": "stdout",
     "output_type": "stream",
     "text": [
      "11.718282900000002\n"
     ]
    }
   ],
   "source": [
    "yhat = 9*x - 30 # note that x is a vector, hence yhat is also a vector\n",
    "difference = y - yhat # the difference is still a vector\n",
    "z = difference ** 2 # the ** 2 acts on each element of the vector; the result is still a vector\n",
    "MSE = np.mean(z) # np.mean() sums all elements of z and diveded by its size (N=10)\n",
    "print (MSE)"
   ]
  },
  {
   "cell_type": "code",
   "execution_count": 17,
   "metadata": {
    "colab": {
     "base_uri": "https://localhost:8080/",
     "height": 68
    },
    "colab_type": "code",
    "id": "xB-0NycGDM6A",
    "outputId": "a02a1c3b-262e-4416-d902-5b5fdc8c0d7a"
   },
   "outputs": [
    {
     "name": "stdout",
     "output_type": "stream",
     "text": [
      "[-5.175 -6.189  0.035  0.418  1.877  0.83  -1.208  1.552 -4.179 -5.136]\n",
      "[2.6780625e+01 3.8303721e+01 1.2250000e-03 1.7472400e-01 3.5231290e+00\n",
      " 6.8890000e-01 1.4592640e+00 2.4087040e+00 1.7464041e+01 2.6378496e+01]\n"
     ]
    }
   ],
   "source": [
    "print (difference)\n",
    "print (difference ** 2)"
   ]
  },
  {
   "cell_type": "code",
   "execution_count": null,
   "metadata": {},
   "outputs": [],
   "source": []
  }
 ],
 "metadata": {
  "colab": {
   "collapsed_sections": [],
   "name": "Boston_Housing_One_Variable.ipynb",
   "provenance": []
  },
  "kernelspec": {
   "display_name": "Python 3",
   "language": "python",
   "name": "python3"
  },
  "language_info": {
   "codemirror_mode": {
    "name": "ipython",
    "version": 3
   },
   "file_extension": ".py",
   "mimetype": "text/x-python",
   "name": "python",
   "nbconvert_exporter": "python",
   "pygments_lexer": "ipython3",
   "version": "3.7.0"
  }
 },
 "nbformat": 4,
 "nbformat_minor": 1
}
