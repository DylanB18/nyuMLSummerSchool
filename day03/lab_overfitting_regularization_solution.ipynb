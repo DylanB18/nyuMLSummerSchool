{
  "nbformat": 4,
  "nbformat_minor": 0,
  "metadata": {
    "colab": {
      "name": "lab_overfitting_regularization.ipynb",
      "provenance": []
    },
    "kernelspec": {
      "display_name": "Python 3",
      "language": "python",
      "name": "python3"
    },
    "language_info": {
      "codemirror_mode": {
        "name": "ipython",
        "version": 3
      },
      "file_extension": ".py",
      "mimetype": "text/x-python",
      "name": "python",
      "nbconvert_exporter": "python",
      "pygments_lexer": "ipython3",
      "version": "3.7.0"
    }
  },
  "cells": [
    {
      "cell_type": "markdown",
      "metadata": {
        "colab_type": "text",
        "id": "iNK0ITS8hXrV"
      },
      "source": [
        "# Demo: Overfitting, Weight-Regularization"
      ]
    },
    {
      "cell_type": "code",
      "metadata": {
        "colab_type": "code",
        "id": "KcSnaL94hXrV",
        "colab": {}
      },
      "source": [
        "import numpy as np\n",
        "import matplotlib\n",
        "import matplotlib.pyplot as plt\n",
        "%matplotlib inline"
      ],
      "execution_count": 57,
      "outputs": []
    },
    {
      "cell_type": "markdown",
      "metadata": {
        "id": "iX1WOlAq7p1R",
        "colab_type": "text"
      },
      "source": [
        "### Plot polynomial\n",
        "\n",
        "Here we plot the polynomial curve $f(x) = 5x^3 + x^2 - 2x - 0.5$."
      ]
    },
    {
      "cell_type": "code",
      "metadata": {
        "colab_type": "code",
        "id": "d8AcBQX87p1S",
        "colab": {
          "base_uri": "https://localhost:8080/",
          "height": 283
        },
        "outputId": "f10b9b94-034a-4093-9d75-e40a0e6d0672"
      },
      "source": [
        "nsamp = 25 # number of samples taken\n",
        "p = np.array([5,1,-2,-.5]) # true coefficients\n",
        "var = 0.1 # noise variance\n",
        "\n",
        "# we'll take a set of measurements uniformly\n",
        "x = np.linspace(-1,1,nsamp)\n",
        "y_true = np.polyval(p,x)\n",
        "# noisy measurement, ym. use sqrt(var) as numpy normal standard deviation\n",
        "y = y_true + np.random.normal(0, np.sqrt(var), nsamp)\n",
        "\n",
        "plt.plot(x,y_true)\n",
        "# we can force a scatter plot in plt.plot by making the third argument 'o'\n",
        "plt.plot(x,y,'ob',markeredgecolor='black');\n",
        "plt.grid();\n",
        "plt.xlabel('x')\n",
        "plt.ylabel('y')\n",
        "plt.xlim([-1,1])\n",
        "plt.ylim([-3,4])\n",
        "plt.legend(['True Process, y_true','Noisy Measurement, y']);"
      ],
      "execution_count": 58,
      "outputs": [
        {
          "output_type": "display_data",
          "data": {
            "image/png": "[encoded data removed]",
            "text/plain": [
              "<Figure size 432x288 with 1 Axes>"
            ]
          },
          "metadata": {
            "tags": [],
            "needs_background": "light"
          }
        }
      ]
    },
    {
      "cell_type": "code",
      "metadata": {
        "colab_type": "code",
        "id": "syyXCKIhhXrb",
        "colab": {
          "base_uri": "https://localhost:8080/",
          "height": 69
        },
        "outputId": "651fca97-cc11-455e-d0f5-5765698478d8"
      },
      "source": [
        "# train test validation split\n",
        "ntrain = 15\n",
        "nval = 5\n",
        "ntest = 5\n",
        "\n",
        "inds = np.random.permutation(nsamp)\n",
        "\n",
        "train_choices = inds[:ntrain]\n",
        "val_choices = inds[ntrain:ntrain+nval]\n",
        "test_choices = inds[ntrain+nval:]\n",
        "\n",
        "xtrain, ytrain = x[train_choices], y[train_choices]\n",
        "xval, yval     = x[val_choices], y[val_choices]\n",
        "xtest, ytest   = x[test_choices], y[test_choices]\n",
        "xtrain"
      ],
      "execution_count": 60,
      "outputs": [
        {
          "output_type": "execute_result",
          "data": {
            "text/plain": [
              "array([ 0.08333333,  0.91666667, -0.91666667,  0.5       , -0.41666667,\n",
              "        0.58333333,  0.66666667,  0.16666667, -0.83333333,  0.25      ,\n",
              "       -0.16666667, -0.75      , -1.        ,  0.41666667, -0.66666667])"
            ]
          },
          "metadata": {
            "tags": []
          },
          "execution_count": 60
        }
      ]
    },
    {
      "cell_type": "markdown",
      "metadata": {
        "id": "PD12Fbm27p1Z",
        "colab_type": "text"
      },
      "source": [
        "### Design Matrix\n",
        "\n",
        "We have the design matrix as $D = \\begin{bmatrix}\n",
        "1 & x_1 & x_1^2 & x_1^3 & \\cdots & x_1^{M}\\\\\n",
        "1 & x_2 & x_2^2 & x_2^3 & \\cdots & x_2^{M}\\\\\n",
        "\\vdots & \\vdots & \\vdots & \\vdots & \\ddots & \\vdots\\\\ \n",
        "1 & x_n & x_n^2 & x_n^3 & \\cdots & x_n^{M}\n",
        "\\end{bmatrix}$\n",
        "\n",
        "- Complete the design matrix and set M = 25, the shape of the design matrix should be (15, 26)"
      ]
    },
    {
      "cell_type": "code",
      "metadata": {
        "colab_type": "code",
        "id": "wTKUe2lehXrd",
        "colab": {
          "base_uri": "https://localhost:8080/",
          "height": 35
        },
        "outputId": "bed292b4-986d-411e-9a8c-b1d7701c08ed"
      },
      "source": [
        "# forming the design matrix\n",
        "# features x, model order M\n",
        "\n",
        "def design_matrix(x, M):\n",
        "    # TODO\n",
        "    x = x.reshape(-1, 1)\n",
        "    Design_Matrix = np.power(x, np.arange(M+1))\n",
        "    return Design_Matrix\n",
        "\n",
        "\n",
        "M = 25\n",
        "Xtrain = design_matrix(xtrain, M)\n",
        "print(Xtrain.shape)"
      ],
      "execution_count": 65,
      "outputs": [
        {
          "output_type": "stream",
          "text": [
            "(15, 26)\n"
          ],
          "name": "stdout"
        }
      ]
    },
    {
      "cell_type": "code",
      "metadata": {
        "colab_type": "code",
        "id": "OaQtjOPHhXrf",
        "colab": {
          "base_uri": "https://localhost:8080/",
          "height": 770
        },
        "outputId": "0afffefe-6bcb-4415-d425-616d1cd6d2a9"
      },
      "source": [
        "from sklearn import linear_model\n",
        "\n",
        "# TODO\n",
        "# fit the polynomial model using linear regression \n",
        "regr = linear_model.LinearRegression()\n",
        "regr.fit(Xtrain, ytrain)\n",
        "\n",
        "\n",
        "# print the training error MSE\n",
        "yhat_train = regr.predict(Xtrain)\n",
        "MSE_train = np.mean((yhat_train - ytrain)**2)\n",
        "print(\"Train MSE: {}\".format(MSE_train))\n",
        "\n",
        "\n",
        "# print the test error MSE\n",
        "yhat_test = regr.predict(design_matrix(xtest, M))\n",
        "MSE_test = np.mean((yhat_test - ytest)**2)\n",
        "print(\"Test MSE: {}\".format(MSE_test))\n",
        "\n",
        "\n",
        "\n",
        "# plotting\n",
        "x_line = np.linspace(-1,1,500).reshape(-1,1)\n",
        "X_line = design_matrix(x_line, M)\n",
        "y_line = regr.predict(X_line)\n",
        "\n",
        "plt.figure()\n",
        "plt.plot(x_line, y_line)\n",
        "plt.plot(xtrain,ytrain,'o',markeredgecolor='black')\n",
        "plt.plot(xtest,ytest,'o',markeredgecolor='black')\n",
        "plt.xlim([-1,1])\n",
        "plt.ylim([-3,4])\n",
        "plt.legend(['Model','Train Points', 'Test Points'])\n",
        "plt.show()\n",
        "\n",
        "w = regr.coef_\n",
        "\n",
        "print(\"w = \")\n",
        "with np.printoptions(precision=2, suppress=True):\n",
        "    print(w.reshape(-1,1))"
      ],
      "execution_count": 67,
      "outputs": [
        {
          "output_type": "stream",
          "text": [
            "Train MSE: 1.428997935882091e-25\n",
            "Test MSE: 2276225.0463959184\n"
          ],
          "name": "stdout"
        },
        {
          "output_type": "display_data",
          "data": {
            "image/png": "[encoded data removed]",
            "text/plain": [
              "<Figure size 432x288 with 1 Axes>"
            ]
          },
          "metadata": {
            "tags": [],
            "needs_background": "light"
          }
        },
        {
          "output_type": "stream",
          "text": [
            "w = \n",
            "[[    0.  ]\n",
            " [    1.79]\n",
            " [   -5.26]\n",
            " [ -148.14]\n",
            " [  112.35]\n",
            " [ 1532.  ]\n",
            " [ -648.66]\n",
            " [-5715.33]\n",
            " [  910.73]\n",
            " [ 7630.46]\n",
            " [  949.64]\n",
            " [  659.77]\n",
            " [-1098.63]\n",
            " [-4460.23]\n",
            " [-1288.68]\n",
            " [-3678.84]\n",
            " [ -821.86]\n",
            " [ -583.34]\n",
            " [ -464.85]\n",
            " [ 1951.  ]\n",
            " [   28.39]\n",
            " [ 2819.1 ]\n",
            " [ 1090.17]\n",
            " [ 1958.91]\n",
            " [ 2924.17]\n",
            " [ -277.22]]\n"
          ],
          "name": "stdout"
        }
      ]
    },
    {
      "cell_type": "markdown",
      "metadata": {
        "id": "2EJnTpt57p1h",
        "colab_type": "text"
      },
      "source": [
        "### weight based regularization\n",
        "\n",
        "- Lasso: L1 norm regularizer $\\displaystyle\\frac{1}{2n_\\mathrm{samples}}\\|y - Xw\\|^2_2 + \\alpha\\|w\\|_1$\n",
        "\n",
        "\n",
        "- Ridge: L2 norm regularizer $\\displaystyle\\|y - Xw\\|^2_2 + \\alpha\\|w\\|^2_2$"
      ]
    },
    {
      "cell_type": "code",
      "metadata": {
        "colab_type": "code",
        "id": "KJAgZ3wshXri",
        "colab": {
          "base_uri": "https://localhost:8080/",
          "height": 783
        },
        "outputId": "309e87ef-09a7-4515-ca78-60649b409fff"
      },
      "source": [
        "# TODO\n",
        "\n",
        "# Using the following models to fit the data\n",
        "# reg = linear_model.Lasso(alpha=.02, fit_intercept=False)\n",
        "reg = linear_model.Ridge(alpha=.05, fit_intercept=False)\n",
        "\n",
        "reg.fit(Xtrain, ytrain)\n",
        "w = reg.coef_\n",
        "\n",
        "\n",
        "# print the training error MSE\n",
        "# yhat_train = regr.predict(Xtrain)\n",
        "yhat_train = Xtrain@w\n",
        "MSE_train = np.mean((yhat_train - ytrain)**2)\n",
        "print(\"Train MSE: {}\".format(MSE_train))\n",
        "\n",
        "\n",
        "# print the validation error MSE\n",
        "Xval = design_matrix(xval, M)\n",
        "yhat = reg.predict(Xval)\n",
        "MSE_val = np.mean((yval-yhat)**2)\n",
        "print(\"Val RMSE = {}\".format(MSE_val))\n",
        "\n",
        "\n",
        "# print the testing error MSE\n",
        "yhat_test = reg.predict(design_matrix(xtest, M))\n",
        "MSE_test = np.mean((yhat_test - ytest)**2)\n",
        "print(\"Test MSE: {}\".format(MSE_test))\n",
        "\n",
        "\n",
        "# plotting\n",
        "x_line = np.linspace(-1,1,500).reshape(-1,1)\n",
        "X_line = design_matrix(x_line, M)\n",
        "y_line = reg.predict(X_line)\n",
        "\n",
        "plt.figure()\n",
        "plt.plot(x_line, y_line)\n",
        "plt.plot(xtrain,ytrain,'o',markeredgecolor='black')\n",
        "plt.plot(xtest,ytest,'o',markeredgecolor='black')\n",
        "plt.plot(xval,yval,'o',markeredgecolor='black')\n",
        "# plt.xlim([-1,1])\n",
        "# plt.ylim([-3,3])\n",
        "plt.legend(['Model','Train Points', 'Test Points', 'Val Points'])\n",
        "plt.show()\n",
        "\n",
        "print(\"w = \")\n",
        "with np.printoptions(precision=2, suppress=True):\n",
        "    print(w.reshape(-1,1))"
      ],
      "execution_count": 68,
      "outputs": [
        {
          "output_type": "stream",
          "text": [
            "Train MSE: 0.07027919071446748\n",
            "Val RMSE = 0.15463060537019846\n",
            "Test MSE: 0.1732711601486664\n"
          ],
          "name": "stdout"
        },
        {
          "output_type": "display_data",
          "data": {
            "image/png": "[encoded data removed]",
            "text/plain": [
              "<Figure size 432x288 with 1 Axes>"
            ]
          },
          "metadata": {
            "tags": [],
            "needs_background": "light"
          }
        },
        {
          "output_type": "stream",
          "text": [
            "w = \n",
            "[[-0.6 ]\n",
            " [-0.97]\n",
            " [ 0.95]\n",
            " [ 1.87]\n",
            " [ 0.42]\n",
            " [ 1.4 ]\n",
            " [-0.04]\n",
            " [ 0.8 ]\n",
            " [-0.19]\n",
            " [ 0.38]\n",
            " [-0.18]\n",
            " [ 0.12]\n",
            " [-0.13]\n",
            " [-0.02]\n",
            " [-0.08]\n",
            " [-0.09]\n",
            " [-0.03]\n",
            " [-0.12]\n",
            " [-0.01]\n",
            " [-0.13]\n",
            " [-0.  ]\n",
            " [-0.11]\n",
            " [-0.  ]\n",
            " [-0.09]\n",
            " [-0.01]\n",
            " [-0.07]]\n"
          ],
          "name": "stdout"
        }
      ]
    }
  ]
}